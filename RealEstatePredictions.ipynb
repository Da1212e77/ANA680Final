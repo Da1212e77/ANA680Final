{
  "cells": [
    {
      "cell_type": "code",
      "execution_count": null,
      "metadata": {
        "id": "2A-a36EbnCXH"
      },
      "outputs": [],
      "source": [
        "import pandas as pd\n",
        "import numpy as np\n",
        "import sklearn\n",
        "import matplotlib.pyplot as plt\n",
        "from sklearn.model_selection import train_test_split\n",
        "from sklearn.preprocessing import StandardScaler, OneHotEncoder\n",
        "from sklearn.impute import SimpleImputer\n",
        "from sklearn.compose import ColumnTransformer\n",
        "from sklearn.pipeline import Pipeline\n",
        "from sklearn.linear_model import LinearRegression\n",
        "from sklearn.metrics import mean_squared_error\n",
        "import pickle\n"
      ]
    },
    {
      "cell_type": "code",
      "execution_count": null,
      "metadata": {
        "colab": {
          "base_uri": "https://localhost:8080/"
        },
        "id": "CfBImebOnMoE",
        "outputId": "012c3f43-c505-4a9e-ffa3-ce0f8d2ad616"
      },
      "outputs": [],
      "source": [
        "# Load the dataset\n",
        "data = pd.read_csv('C:/Users/16192/OneDrive/Documents/GitHub/ANA680Final/Data/test.csv')\n",
        "print(data.shape)\n",
        "print(data.head(10))"
      ]
    },
    {
      "cell_type": "code",
      "execution_count": null,
      "metadata": {
        "id": "QEhVSK5Sna9l"
      },
      "outputs": [],
      "source": [
        "# Ensure 'SalePrice' column exists in data\n",
        "if 'SalePrice' not in data.columns:\n",
        "    raise ValueError(\"'SalePrice' column is missing from the data\")"
      ]
    },
    {
      "cell_type": "code",
      "execution_count": null,
      "metadata": {
        "id": "jqCRCnOwnm-N"
      },
      "outputs": [],
      "source": [
        "# Select relevant features and target variable\n",
        "features = ['Neighborhood', 'LotArea', 'YearBuilt', 'BldgType', 'CentralAir', 'GarageCars', 'TotRmsAbvGrd', 'FullBath', 'HalfBath']\n",
        "target = 'SalePrice'\n",
        "\n",
        "X = data[features]\n",
        "y = data[target]"
      ]
    },
    {
      "cell_type": "code",
      "execution_count": null,
      "metadata": {
        "id": "u0wSqUVAnotY"
      },
      "outputs": [],
      "source": [
        "# Preprocess features\n",
        "categorical_features = ['Neighborhood', 'BldgType', 'CentralAir']\n",
        "numerical_features = ['LotArea', 'YearBuilt', 'GarageCars', 'TotRmsAbvGrd', 'FullBath', 'HalfBath']\n",
        "\n",
        "numeric_transformer = Pipeline(steps=[\n",
        "    ('imputer', SimpleImputer(strategy='median')),\n",
        "    ('scaler', StandardScaler())\n",
        "])\n",
        "\n",
        "categorical_transformer = Pipeline(steps=[\n",
        "    ('imputer', SimpleImputer(strategy='most_frequent')),\n",
        "    ('onehot', OneHotEncoder(handle_unknown='ignore'))\n",
        "])\n",
        "\n",
        "preprocessor = ColumnTransformer(\n",
        "    transformers=[\n",
        "        ('num', numeric_transformer, numerical_features),\n",
        "        ('cat', categorical_transformer, categorical_features)\n",
        "    ])"
      ]
    },
    {
      "cell_type": "code",
      "execution_count": null,
      "metadata": {
        "colab": {
          "base_uri": "https://localhost:8080/",
          "height": 152
        },
        "id": "E4FHDmr1nqd6",
        "outputId": "05188918-d7c2-46e5-a10d-df990cc2ed11"
      },
      "outputs": [],
      "source": [
        "# Fit the preprocessor on the entire data\n",
        "preprocessor.fit(X)"
      ]
    },
    {
      "cell_type": "code",
      "execution_count": null,
      "metadata": {
        "id": "leDsZfaans14"
      },
      "outputs": [],
      "source": [
        "# Create the model pipeline\n",
        "model = Pipeline(steps=[\n",
        "    ('preprocessor', preprocessor),\n",
        "    ('regressor', LinearRegression())\n",
        "])"
      ]
    },
    {
      "cell_type": "code",
      "execution_count": null,
      "metadata": {
        "id": "qwK10Aqinu26"
      },
      "outputs": [],
      "source": [
        "# Split the data into training and testing sets\n",
        "X_train, X_test, y_train, y_test = train_test_split(X, y, test_size=0.2, random_state=42)"
      ]
    },
    {
      "cell_type": "code",
      "execution_count": null,
      "metadata": {
        "colab": {
          "base_uri": "https://localhost:8080/",
          "height": 227
        },
        "id": "zEbrRmwSn4tU",
        "outputId": "006cecba-9428-4658-b9c6-f91abb8a4ba0"
      },
      "outputs": [],
      "source": [
        "# Train the model\n",
        "model.fit(X_train, y_train)"
      ]
    },
    {
      "cell_type": "code",
      "execution_count": null,
      "metadata": {
        "colab": {
          "base_uri": "https://localhost:8080/"
        },
        "id": "c_N3ADFNn6Ic",
        "outputId": "af15d124-44e5-4724-dbbb-3e494378b6fd"
      },
      "outputs": [],
      "source": [
        "# Evaluate the model\n",
        "y_pred = model.predict(X_test)\n",
        "mse = mean_squared_error(y_test, y_pred)\n",
        "print(f'Mean Squared Error: {mse}')"
      ]
    },
    {
      "cell_type": "code",
      "execution_count": null,
      "metadata": {
        "id": "sJOAKNyxn713"
      },
      "outputs": [],
      "source": [
        "# Make predictions on the test set\n",
        "y_pred = model.predict(X_test)"
      ]
    },
    {
      "cell_type": "code",
      "execution_count": null,
      "metadata": {
        "id": "F7MbCHuIn9wD"
      },
      "outputs": [],
      "source": [
        "# Calculate residuals\n",
        "residuals = y_test - y_pred"
      ]
    },
    {
      "cell_type": "code",
      "execution_count": null,
      "metadata": {
        "colab": {
          "base_uri": "https://localhost:8080/",
          "height": 564
        },
        "id": "uf9fT3LKn_NN",
        "outputId": "78f2aa63-ad45-4624-b10b-4747d40b83d6"
      },
      "outputs": [],
      "source": [
        "# Scatter Plot of Actual vs. Predicted Prices\n",
        "plt.figure(figsize=(10, 6))\n",
        "plt.scatter(y_test, y_pred, alpha=0.5)\n",
        "plt.plot([y_test.min(), y_test.max()], [y_test.min(), y_test.max()], 'k--', lw=3)\n",
        "plt.xlabel('Actual')\n",
        "plt.ylabel('Predicted')\n",
        "plt.title('Actual vs Predicted Prices')\n",
        "plt.grid(True)\n",
        "plt.savefig('actual_vs_predicted.png')  # Save the figure\n",
        "plt.show()"
      ]
    },
    {
      "cell_type": "code",
      "execution_count": null,
      "metadata": {
        "colab": {
          "base_uri": "https://localhost:8080/",
          "height": 564
        },
        "id": "-gyoKrRaoBUE",
        "outputId": "0b147225-aed9-4bce-d3c9-21051dac578f"
      },
      "outputs": [],
      "source": [
        "# Histogram of Residuals\n",
        "plt.figure(figsize=(10, 6))\n",
        "plt.hist(residuals, bins=30, edgecolor='k', alpha=0.7)\n",
        "plt.xlabel('Prediction Error (Residual)')\n",
        "plt.ylabel('Number of Houses')\n",
        "plt.title('Distribution of Prediction Errors')\n",
        "plt.grid(True)\n",
        "plt.savefig('histogram_of_residuals.png')\n",
        "plt.show()"
      ]
    },
    {
      "cell_type": "code",
      "execution_count": null,
      "metadata": {
        "colab": {
          "base_uri": "https://localhost:8080/"
        },
        "id": "Bytn9WZOoFlf",
        "outputId": "4cf0927c-c0f1-45a7-9d6c-47237efa685d"
      },
      "outputs": [],
      "source": [
        "# Print the first few predictions and actual values\n",
        "for actual, predicted in zip(y_test[:10], y_pred[:10]):\n",
        "    print(f\"Actual: {actual}, Predicted: {predicted}\")"
      ]
    },
    {
      "cell_type": "code",
      "execution_count": null,
      "metadata": {
        "id": "JBsGZptIoGMc"
      },
      "outputs": [],
      "source": [
        "# Save the model to a file\n",
        "model_path = 'house_price_model.pkl'\n",
        "with open(model_path, 'wb') as model_file:\n",
        "    pickle.dump(model, model_file)\n"
      ]
    },
    {
      "cell_type": "code",
      "execution_count": null,
      "metadata": {
        "id": "7Bcbai5moIT2"
      },
      "outputs": [],
      "source": [
        "# Save the preprocessor separately\n",
        "with open('preprocessor.pkl', 'wb') as preprocessor_file:\n",
        "    pickle.dump(preprocessor, preprocessor_file)"
      ]
    }
  ],
  "metadata": {
    "colab": {
      "provenance": []
    },
    "kernelspec": {
      "display_name": "Python 3",
      "name": "python3"
    },
    "language_info": {
      "codemirror_mode": {
        "name": "ipython",
        "version": 3
      },
      "file_extension": ".py",
      "mimetype": "text/x-python",
      "name": "python",
      "nbconvert_exporter": "python",
      "pygments_lexer": "ipython3",
      "version": "3.12.3"
    }
  },
  "nbformat": 4,
  "nbformat_minor": 0
}
