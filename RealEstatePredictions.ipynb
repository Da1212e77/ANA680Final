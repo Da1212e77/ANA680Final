{
  "cells": [
    {
      "cell_type": "code",
      "execution_count": null,
      "metadata": {
        "id": "IiMS0OpxkqnD"
      },
      "outputs": [],
      "source": [
        "# Imports\n",
        "import pandas as pd\n",
        "import numpy as np\n",
        "import matplotlib.pyplot as plt\n",
        "import seaborn as sns\n",
        "import joblib\n",
        "import warnings\n",
        "warnings.simplefilter('ignore')\n",
        "\n",
        "from sklearn.model_selection import train_test_split, GridSearchCV\n",
        "from sklearn.pipeline import Pipeline\n",
        "from sklearn.compose import ColumnTransformer\n",
        "from sklearn.impute import SimpleImputer\n",
        "from sklearn.preprocessing import StandardScaler, OneHotEncoder\n",
        "from sklearn.ensemble import RandomForestRegressor\n",
        "from sklearn.metrics import mean_squared_error, r2_score\n"
      ]
    },
    {
      "cell_type": "code",
      "execution_count": null,
      "metadata": {
        "id": "yGPUjYMWk4Yd"
      },
      "outputs": [],
      "source": [
        "# Load the dataset\n",
        "data = pd.read_csv('Data/test.csv')"
      ]
    },
    {
      "cell_type": "code",
      "execution_count": null,
      "metadata": {
        "id": "6ZCrDC1Tk7bl"
      },
      "outputs": [],
      "source": [
        "# Select relevant features and target variable\n",
        "features = ['Neighborhood', 'LotArea', 'YearBuilt', 'TotRmsAbvGrd']\n",
        "target = 'SalePrice'\n",
        "X = data[features]\n",
        "y = data[target]\n",
        "\n",
        "# Rename 'TotRmsAbvGrd' to 'TotalRooms'\n",
        "X.rename(columns={'TotRmsAbvGrd': 'TotalRooms'}, inplace=True)"
      ]
    },
    {
      "cell_type": "code",
      "execution_count": null,
      "metadata": {
        "id": "qPGOHWPZlBxm"
      },
      "outputs": [],
      "source": [
        "# Define categorical and numerical features\n",
        "categorical_features = ['Neighborhood']\n",
        "numerical_features = ['LotArea', 'YearBuilt', 'TotalRooms']"
      ]
    },
    {
      "cell_type": "code",
      "execution_count": null,
      "metadata": {
        "id": "wAT5N8jolHKU"
      },
      "outputs": [],
      "source": [
        "# Define preprocessing for numerical data\n",
        "numeric_transformer = Pipeline(steps=[\n",
        "    ('imputer', SimpleImputer(strategy='median')),\n",
        "    ('scaler', StandardScaler())\n",
        "])\n",
        "\n",
        "# Define preprocessing for categorical data\n",
        "categorical_transformer = Pipeline(steps=[\n",
        "    ('imputer', SimpleImputer(strategy='most_frequent')),\n",
        "    ('onehot', OneHotEncoder(handle_unknown='ignore'))\n",
        "])"
      ]
    },
    {
      "cell_type": "code",
      "execution_count": null,
      "metadata": {
        "id": "aA9Lhhe6lK1E"
      },
      "outputs": [],
      "source": [
        "# Combine preprocessing steps\n",
        "preprocessor = ColumnTransformer(\n",
        "    transformers=[\n",
        "        ('num', numeric_transformer, numerical_features),\n",
        "        ('cat', categorical_transformer, categorical_features)\n",
        "    ])\n",
        "\n",
        "# Define the model pipeline\n",
        "model = Pipeline(steps=[\n",
        "    ('preprocessor', preprocessor),\n",
        "    ('regressor', RandomForestRegressor(random_state=42))\n",
        "])"
      ]
    },
    {
      "cell_type": "code",
      "execution_count": null,
      "metadata": {
        "id": "pFwyV0YllIOa"
      },
      "outputs": [],
      "source": [
        "# Split the data into training and testing sets\n",
        "X_train, X_test, y_train, y_test = train_test_split(X, y, test_size=0.2, random_state=42)"
      ]
    },
    {
      "cell_type": "code",
      "execution_count": null,
      "metadata": {
        "id": "tXPdq6CdlN4b"
      },
      "outputs": [],
      "source": [
        "# Define hyperparameters for GridSearchCV\n",
        "param_grid = {\n",
        "    'regressor__n_estimators': [100, 200],\n",
        "    'regressor__max_features': ['auto', 'sqrt', 'log2'],\n",
        "    'regressor__max_depth': [None, 10, 20, 30],\n",
        "    'regressor__min_samples_split': [2, 5, 10],\n",
        "    'regressor__min_samples_leaf': [1, 2, 4]\n",
        "}\n"
      ]
    },
    {
      "cell_type": "code",
      "execution_count": null,
      "metadata": {
        "colab": {
          "base_uri": "https://localhost:8080/",
          "height": 339
        },
        "id": "QMa9z0I0lQOs",
        "outputId": "91fc4fb0-56f8-430f-ef58-6609c55932cf"
      },
      "outputs": [],
      "source": [
        "# Perform GridSearchCV\n",
        "grid_search = GridSearchCV(model, param_grid, cv=5, n_jobs=-1, verbose=2)\n",
        "grid_search.fit(X_train, y_train)"
      ]
    },
    {
      "cell_type": "code",
      "execution_count": null,
      "metadata": {
        "id": "Naw7WNlelSUr"
      },
      "outputs": [],
      "source": [
        "# Best model from GridSearchCV\n",
        "best_model = grid_search.best_estimator_"
      ]
    },
    {
      "cell_type": "code",
      "execution_count": null,
      "metadata": {
        "id": "k4jMxyfelUXz"
      },
      "outputs": [],
      "source": [
        "# Validation metrics\n",
        "y_val_pred = best_model.predict(X_test)\n",
        "mse_val = mean_squared_error(y_test, y_val_pred)\n",
        "rmse_val = mean_squared_error(y_test, y_val_pred, squared=False)\n",
        "r2_val = r2_score(y_test, y_val_pred)\n",
        "\n",
        "print(f\"Validation Mean Squared Error: {mse_val}\")\n",
        "print(f\"Validation Root Mean Squared Error: {rmse_val}\")\n",
        "print(f\"Validation R^2 Score: {r2_val}\")\n"
      ]
    },
    {
      "cell_type": "code",
      "execution_count": null,
      "metadata": {
        "id": "mhuslqkHlW7k"
      },
      "outputs": [],
      "source": [
        "# Feature importance visualization\n",
        "importances = best_model.named_steps['regressor'].feature_importances_\n",
        "feature_names = best_model.named_steps['preprocessor'].get_feature_names_out()"
      ]
    },
    {
      "cell_type": "code",
      "execution_count": null,
      "metadata": {
        "id": "RzRq3ZCMlZcM"
      },
      "outputs": [],
      "source": [
        "# Create a DataFrame to show feature names and their importances\n",
        "importance_df = pd.DataFrame({\n",
        "    'Feature': feature_names,\n",
        "    'Importance': importances * 100  # Convert to percentage\n",
        "}).sort_values(by='Importance', ascending=False)\n"
      ]
    },
    {
      "cell_type": "code",
      "execution_count": null,
      "metadata": {
        "id": "UjrE2juklcxC"
      },
      "outputs": [],
      "source": [
        "# Plot top 10 feature importances\n",
        "top_10_features = importance_df.head(10)\n",
        "\n",
        "plt.figure(figsize=(10, 6))\n",
        "sns.barplot(x=top_10_features['Importance'], y=top_10_features['Feature'], palette='viridis')\n",
        "plt.xlabel('Importance Percentage')\n",
        "plt.ylabel('Features')\n",
        "plt.title('Top 10 Feature Importances')\n",
        "plt.show()\n"
      ]
    },
    {
      "cell_type": "code",
      "execution_count": null,
      "metadata": {},
      "outputs": [],
      "source": [
        "# Plot top 10 feature importances\n",
        "top_10_features = importance_df.head(10)\n",
        "\n",
        "plt.figure(figsize=(10, 6))\n",
        "sns.barplot(x=top_10_features['Importance'], y=top_10_features['Feature'], palette='viridis')\n",
        "plt.xlabel('Importance Percentage')\n",
        "plt.ylabel('Features')\n",
        "plt.title('Top 10 Feature Importances')\n",
        "plt.show()\n"
      ]
    },
    {
      "cell_type": "code",
      "execution_count": null,
      "metadata": {
        "id": "mT3ElfOwleqP"
      },
      "outputs": [],
      "source": [
        "# Plot all feature importances\n",
        "plt.figure(figsize=(10, 8))\n",
        "sns.barplot(x=importance_df['Importance'], y=importance_df['Feature'], palette='viridis')\n",
        "plt.xlabel('Importance Percentage')\n",
        "plt.ylabel('Features')\n",
        "plt.title('All Feature Importances')\n",
        "plt.show()"
      ]
    },
    {
      "cell_type": "code",
      "execution_count": null,
      "metadata": {
        "id": "yFuvnqrjlgrr"
      },
      "outputs": [],
      "source": [
        "# Save the model using the specified method\n",
        "with open('house_price_model.pkl', 'wb') as model_file:\n",
        "    joblib.dump(best_model, model_file)\n"
      ]
    }
  ],
  "metadata": {
    "colab": {
      "provenance": []
    },
    "kernelspec": {
      "display_name": "Python 3",
      "name": "python3"
    },
    "language_info": {
      "codemirror_mode": {
        "name": "ipython",
        "version": 3
      },
      "file_extension": ".py",
      "mimetype": "text/x-python",
      "name": "python",
      "nbconvert_exporter": "python",
      "pygments_lexer": "ipython3",
      "version": "3.12.3"
    }
  },
  "nbformat": 4,
  "nbformat_minor": 0
}
