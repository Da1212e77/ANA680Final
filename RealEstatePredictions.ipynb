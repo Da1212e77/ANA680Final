{
 "cells": [
  {
   "cell_type": "markdown",
   "metadata": {},
   "source": [
    "## 1. Problem Definition and Dataset Identification"
   ]
  },
  {
   "cell_type": "markdown",
   "metadata": {},
   "source": [
    "### Problem Definition:"
   ]
  },
  {
   "cell_type": "markdown",
   "metadata": {},
   "source": [
    "Let's assume we are working on a problem of predicting house prices based on various features such as location, size, number of bedrooms, and other relevant factors. Machine learning is suitable for this problem because it can identify complex patterns in the data and provide accurate predictions by learning from historical data."
   ]
  },
  {
   "cell_type": "markdown",
   "metadata": {},
   "source": [
    "### Why Machine Learning?"
   ]
  },
  {
   "cell_type": "markdown",
   "metadata": {},
   "source": [
    "Machine learning is effective for predicting house prices because it can handle a large number of features, capture non-linear relationships, and improve over time as more data becomes available. Traditional statistical methods might fall short in capturing the complex interactions between features that machine learning models can."
   ]
  },
  {
   "cell_type": "markdown",
   "metadata": {},
   "source": [
    "### Dataset Identification:"
   ]
  },
  {
   "cell_type": "markdown",
   "metadata": {},
   "source": [
    "For this project, we'll use the well-known \"House Prices: Advanced Regression Techniques\" dataset from Kaggle. You can download it from the following location: Kaggle House Prices Dataset.\n",
    "https://www.kaggle.com/datasets/lespin/house-prices-dataset/data"
   ]
  },
  {
   "cell_type": "markdown",
   "metadata": {},
   "source": [
    "## 2. Data Exploration, Cleaning, Feature Engineering, and Selection"
   ]
  },
  {
   "cell_type": "code",
   "execution_count": 3,
   "metadata": {},
   "outputs": [],
   "source": [
    "import pandas as pd\n",
    "import numpy as np\n",
    "import matplotlib.pyplot as plt\n",
    "import seaborn as sns\n",
    "from sklearn.model_selection import train_test_split\n",
    "from sklearn.preprocessing import StandardScaler, OneHotEncoder\n",
    "from sklearn.impute import SimpleImputer\n",
    "from sklearn.compose import ColumnTransformer\n",
    "from sklearn.pipeline import Pipeline\n",
    "from sklearn.ensemble import RandomForestRegressor\n",
    "from sklearn.metrics import mean_squared_error"
   ]
  },
  {
   "cell_type": "markdown",
   "metadata": {},
   "source": [
    "### Load the dataset"
   ]
  },
  {
   "cell_type": "code",
   "execution_count": 4,
   "metadata": {},
   "outputs": [
    {
     "name": "stdout",
     "output_type": "stream",
     "text": [
      "(2919, 81)\n",
      "   Id  MSSubClass MSZoning  LotFrontage  LotArea Street Alley LotShape  \\\n",
      "0   1          60       RL         65.0     8450   Pave   NaN      Reg   \n",
      "1   2          20       RL         80.0     9600   Pave   NaN      Reg   \n",
      "2   3          60       RL         68.0    11250   Pave   NaN      IR1   \n",
      "3   4          70       RL         60.0     9550   Pave   NaN      IR1   \n",
      "4   5          60       RL         84.0    14260   Pave   NaN      IR1   \n",
      "5   6          50       RL         85.0    14115   Pave   NaN      IR1   \n",
      "6   7          20       RL         75.0    10084   Pave   NaN      Reg   \n",
      "7   8          60       RL          NaN    10382   Pave   NaN      IR1   \n",
      "8   9          50       RM         51.0     6120   Pave   NaN      Reg   \n",
      "9  10         190       RL         50.0     7420   Pave   NaN      Reg   \n",
      "\n",
      "  LandContour Utilities  ... PoolArea PoolQC  Fence MiscFeature MiscVal  \\\n",
      "0         Lvl    AllPub  ...        0    NaN    NaN         NaN       0   \n",
      "1         Lvl    AllPub  ...        0    NaN    NaN         NaN       0   \n",
      "2         Lvl    AllPub  ...        0    NaN    NaN         NaN       0   \n",
      "3         Lvl    AllPub  ...        0    NaN    NaN         NaN       0   \n",
      "4         Lvl    AllPub  ...        0    NaN    NaN         NaN       0   \n",
      "5         Lvl    AllPub  ...        0    NaN  MnPrv        Shed     700   \n",
      "6         Lvl    AllPub  ...        0    NaN    NaN         NaN       0   \n",
      "7         Lvl    AllPub  ...        0    NaN    NaN        Shed     350   \n",
      "8         Lvl    AllPub  ...        0    NaN    NaN         NaN       0   \n",
      "9         Lvl    AllPub  ...        0    NaN    NaN         NaN       0   \n",
      "\n",
      "  MoSold YrSold  SaleType  SaleCondition  SalePrice  \n",
      "0      2   2008        WD         Normal   208500.0  \n",
      "1      5   2007        WD         Normal   181500.0  \n",
      "2      9   2008        WD         Normal   223500.0  \n",
      "3      2   2006        WD        Abnorml   140000.0  \n",
      "4     12   2008        WD         Normal   250000.0  \n",
      "5     10   2009        WD         Normal   143000.0  \n",
      "6      8   2007        WD         Normal   307000.0  \n",
      "7     11   2009        WD         Normal   200000.0  \n",
      "8      4   2008        WD        Abnorml   129900.0  \n",
      "9      1   2008        WD         Normal   118000.0  \n",
      "\n",
      "[10 rows x 81 columns]\n"
     ]
    }
   ],
   "source": [
    "# Load the dataset\n",
    "df1 = pd.read_csv('train.csv')\n",
    "df2 = pd.read_csv('test.csv')\n",
    "\n",
    "data = pd.concat([df1, df2], ignore_index=True)\n",
    "print(data.shape)\n",
    "print(data.head(10))"
   ]
  },
  {
   "cell_type": "markdown",
   "metadata": {},
   "source": [
    "### Data exploration"
   ]
  },
  {
   "cell_type": "code",
   "execution_count": 5,
   "metadata": {},
   "outputs": [
    {
     "name": "stdout",
     "output_type": "stream",
     "text": [
      "<class 'pandas.core.frame.DataFrame'>\n",
      "RangeIndex: 2919 entries, 0 to 2918\n",
      "Data columns (total 81 columns):\n",
      " #   Column         Non-Null Count  Dtype  \n",
      "---  ------         --------------  -----  \n",
      " 0   Id             2919 non-null   int64  \n",
      " 1   MSSubClass     2919 non-null   int64  \n",
      " 2   MSZoning       2915 non-null   object \n",
      " 3   LotFrontage    2433 non-null   float64\n",
      " 4   LotArea        2919 non-null   int64  \n",
      " 5   Street         2919 non-null   object \n",
      " 6   Alley          198 non-null    object \n",
      " 7   LotShape       2919 non-null   object \n",
      " 8   LandContour    2919 non-null   object \n",
      " 9   Utilities      2917 non-null   object \n",
      " 10  LotConfig      2919 non-null   object \n",
      " 11  LandSlope      2919 non-null   object \n",
      " 12  Neighborhood   2919 non-null   object \n",
      " 13  Condition1     2919 non-null   object \n",
      " 14  Condition2     2919 non-null   object \n",
      " 15  BldgType       2919 non-null   object \n",
      " 16  HouseStyle     2919 non-null   object \n",
      " 17  OverallQual    2919 non-null   int64  \n",
      " 18  OverallCond    2919 non-null   int64  \n",
      " 19  YearBuilt      2919 non-null   int64  \n",
      " 20  YearRemodAdd   2919 non-null   int64  \n",
      " 21  RoofStyle      2919 non-null   object \n",
      " 22  RoofMatl       2919 non-null   object \n",
      " 23  Exterior1st    2918 non-null   object \n",
      " 24  Exterior2nd    2918 non-null   object \n",
      " 25  MasVnrType     1153 non-null   object \n",
      " 26  MasVnrArea     2896 non-null   float64\n",
      " 27  ExterQual      2919 non-null   object \n",
      " 28  ExterCond      2919 non-null   object \n",
      " 29  Foundation     2919 non-null   object \n",
      " 30  BsmtQual       2838 non-null   object \n",
      " 31  BsmtCond       2837 non-null   object \n",
      " 32  BsmtExposure   2837 non-null   object \n",
      " 33  BsmtFinType1   2840 non-null   object \n",
      " 34  BsmtFinSF1     2918 non-null   float64\n",
      " 35  BsmtFinType2   2839 non-null   object \n",
      " 36  BsmtFinSF2     2918 non-null   float64\n",
      " 37  BsmtUnfSF      2918 non-null   float64\n",
      " 38  TotalBsmtSF    2918 non-null   float64\n",
      " 39  Heating        2919 non-null   object \n",
      " 40  HeatingQC      2919 non-null   object \n",
      " 41  CentralAir     2919 non-null   object \n",
      " 42  Electrical     2918 non-null   object \n",
      " 43  1stFlrSF       2919 non-null   int64  \n",
      " 44  2ndFlrSF       2919 non-null   int64  \n",
      " 45  LowQualFinSF   2919 non-null   int64  \n",
      " 46  GrLivArea      2919 non-null   int64  \n",
      " 47  BsmtFullBath   2917 non-null   float64\n",
      " 48  BsmtHalfBath   2917 non-null   float64\n",
      " 49  FullBath       2919 non-null   int64  \n",
      " 50  HalfBath       2919 non-null   int64  \n",
      " 51  BedroomAbvGr   2919 non-null   int64  \n",
      " 52  KitchenAbvGr   2919 non-null   int64  \n",
      " 53  KitchenQual    2918 non-null   object \n",
      " 54  TotRmsAbvGrd   2919 non-null   int64  \n",
      " 55  Functional     2917 non-null   object \n",
      " 56  Fireplaces     2919 non-null   int64  \n",
      " 57  FireplaceQu    1499 non-null   object \n",
      " 58  GarageType     2762 non-null   object \n",
      " 59  GarageYrBlt    2760 non-null   float64\n",
      " 60  GarageFinish   2760 non-null   object \n",
      " 61  GarageCars     2918 non-null   float64\n",
      " 62  GarageArea     2918 non-null   float64\n",
      " 63  GarageQual     2760 non-null   object \n",
      " 64  GarageCond     2760 non-null   object \n",
      " 65  PavedDrive     2919 non-null   object \n",
      " 66  WoodDeckSF     2919 non-null   int64  \n",
      " 67  OpenPorchSF    2919 non-null   int64  \n",
      " 68  EnclosedPorch  2919 non-null   int64  \n",
      " 69  3SsnPorch      2919 non-null   int64  \n",
      " 70  ScreenPorch    2919 non-null   int64  \n",
      " 71  PoolArea       2919 non-null   int64  \n",
      " 72  PoolQC         10 non-null     object \n",
      " 73  Fence          571 non-null    object \n",
      " 74  MiscFeature    105 non-null    object \n",
      " 75  MiscVal        2919 non-null   int64  \n",
      " 76  MoSold         2919 non-null   int64  \n",
      " 77  YrSold         2919 non-null   int64  \n",
      " 78  SaleType       2918 non-null   object \n",
      " 79  SaleCondition  2919 non-null   object \n",
      " 80  SalePrice      1460 non-null   float64\n",
      "dtypes: float64(12), int64(26), object(43)\n",
      "memory usage: 1.8+ MB\n",
      "None\n",
      "                Id   MSSubClass  LotFrontage        LotArea  OverallQual  \\\n",
      "count  2919.000000  2919.000000  2433.000000    2919.000000  2919.000000   \n",
      "mean   1460.000000    57.137718    69.305795   10168.114080     6.089072   \n",
      "std     842.787043    42.517628    23.344905    7886.996359     1.409947   \n",
      "min       1.000000    20.000000    21.000000    1300.000000     1.000000   \n",
      "25%     730.500000    20.000000    59.000000    7478.000000     5.000000   \n",
      "50%    1460.000000    50.000000    68.000000    9453.000000     6.000000   \n",
      "75%    2189.500000    70.000000    80.000000   11570.000000     7.000000   \n",
      "max    2919.000000   190.000000   313.000000  215245.000000    10.000000   \n",
      "\n",
      "       OverallCond    YearBuilt  YearRemodAdd   MasVnrArea   BsmtFinSF1  ...  \\\n",
      "count  2919.000000  2919.000000   2919.000000  2896.000000  2918.000000  ...   \n",
      "mean      5.564577  1971.312778   1984.264474   102.201312   441.423235  ...   \n",
      "std       1.113131    30.291442     20.894344   179.334253   455.610826  ...   \n",
      "min       1.000000  1872.000000   1950.000000     0.000000     0.000000  ...   \n",
      "25%       5.000000  1953.500000   1965.000000     0.000000     0.000000  ...   \n",
      "50%       5.000000  1973.000000   1993.000000     0.000000   368.500000  ...   \n",
      "75%       6.000000  2001.000000   2004.000000   164.000000   733.000000  ...   \n",
      "max       9.000000  2010.000000   2010.000000  1600.000000  5644.000000  ...   \n",
      "\n",
      "        WoodDeckSF  OpenPorchSF  EnclosedPorch    3SsnPorch  ScreenPorch  \\\n",
      "count  2919.000000  2919.000000    2919.000000  2919.000000  2919.000000   \n",
      "mean     93.709832    47.486811      23.098321     2.602261    16.062350   \n",
      "std     126.526589    67.575493      64.244246    25.188169    56.184365   \n",
      "min       0.000000     0.000000       0.000000     0.000000     0.000000   \n",
      "25%       0.000000     0.000000       0.000000     0.000000     0.000000   \n",
      "50%       0.000000    26.000000       0.000000     0.000000     0.000000   \n",
      "75%     168.000000    70.000000       0.000000     0.000000     0.000000   \n",
      "max    1424.000000   742.000000    1012.000000   508.000000   576.000000   \n",
      "\n",
      "          PoolArea       MiscVal       MoSold       YrSold      SalePrice  \n",
      "count  2919.000000   2919.000000  2919.000000  2919.000000    1460.000000  \n",
      "mean      2.251799     50.825968     6.213087  2007.792737  180921.195890  \n",
      "std      35.663946    567.402211     2.714762     1.314964   79442.502883  \n",
      "min       0.000000      0.000000     1.000000  2006.000000   34900.000000  \n",
      "25%       0.000000      0.000000     4.000000  2007.000000  129975.000000  \n",
      "50%       0.000000      0.000000     6.000000  2008.000000  163000.000000  \n",
      "75%       0.000000      0.000000     8.000000  2009.000000  214000.000000  \n",
      "max     800.000000  17000.000000    12.000000  2010.000000  755000.000000  \n",
      "\n",
      "[8 rows x 38 columns]\n",
      "MSZoning           4\n",
      "LotFrontage      486\n",
      "Alley           2721\n",
      "Utilities          2\n",
      "Exterior1st        1\n",
      "Exterior2nd        1\n",
      "MasVnrType      1766\n",
      "MasVnrArea        23\n",
      "BsmtQual          81\n",
      "BsmtCond          82\n",
      "BsmtExposure      82\n",
      "BsmtFinType1      79\n",
      "BsmtFinSF1         1\n",
      "BsmtFinType2      80\n",
      "BsmtFinSF2         1\n",
      "BsmtUnfSF          1\n",
      "TotalBsmtSF        1\n",
      "Electrical         1\n",
      "BsmtFullBath       2\n",
      "BsmtHalfBath       2\n",
      "KitchenQual        1\n",
      "Functional         2\n",
      "FireplaceQu     1420\n",
      "GarageType       157\n",
      "GarageYrBlt      159\n",
      "GarageFinish     159\n",
      "GarageCars         1\n",
      "GarageArea         1\n",
      "GarageQual       159\n",
      "GarageCond       159\n",
      "PoolQC          2909\n",
      "Fence           2348\n",
      "MiscFeature     2814\n",
      "SaleType           1\n",
      "SalePrice       1459\n",
      "dtype: int64\n"
     ]
    }
   ],
   "source": [
    "print(data.info())\n",
    "print(data.describe())\n",
    "\n",
    "# Check for missing values\n",
    "missing_values = data.isnull().sum()\n",
    "print(missing_values[missing_values > 0])"
   ]
  },
  {
   "cell_type": "markdown",
   "metadata": {},
   "source": [
    "### Data Cleaning"
   ]
  },
  {
   "cell_type": "code",
   "execution_count": 6,
   "metadata": {},
   "outputs": [
    {
     "name": "stdout",
     "output_type": "stream",
     "text": [
      "   Id  MSSubClass  LotFrontage  LotArea  OverallQual  OverallCond  YearBuilt  \\\n",
      "0   1          60         65.0     8450            7            5       2003   \n",
      "1   2          20         80.0     9600            6            8       1976   \n",
      "2   3          60         68.0    11250            7            5       2001   \n",
      "3   4          70         60.0     9550            7            5       1915   \n",
      "4   5          60         84.0    14260            8            5       2000   \n",
      "5   6          50         85.0    14115            5            5       1993   \n",
      "6   7          20         75.0    10084            8            5       2004   \n",
      "7   8          60         68.0    10382            7            6       1973   \n",
      "8   9          50         51.0     6120            7            5       1931   \n",
      "9  10         190         50.0     7420            5            6       1939   \n",
      "\n",
      "   YearRemodAdd  MasVnrArea  BsmtFinSF1  ...  SaleType_ConLw  SaleType_New  \\\n",
      "0          2003       196.0       706.0  ...           False         False   \n",
      "1          1976         0.0       978.0  ...           False         False   \n",
      "2          2002       162.0       486.0  ...           False         False   \n",
      "3          1970         0.0       216.0  ...           False         False   \n",
      "4          2000       350.0       655.0  ...           False         False   \n",
      "5          1995         0.0       732.0  ...           False         False   \n",
      "6          2005       186.0      1369.0  ...           False         False   \n",
      "7          1973       240.0       859.0  ...           False         False   \n",
      "8          1950         0.0         0.0  ...           False         False   \n",
      "9          1950         0.0       851.0  ...           False         False   \n",
      "\n",
      "   SaleType_Oth  SaleType_WD  SaleCondition_Abnorml  SaleCondition_AdjLand  \\\n",
      "0         False         True                  False                  False   \n",
      "1         False         True                  False                  False   \n",
      "2         False         True                  False                  False   \n",
      "3         False         True                   True                  False   \n",
      "4         False         True                  False                  False   \n",
      "5         False         True                  False                  False   \n",
      "6         False         True                  False                  False   \n",
      "7         False         True                  False                  False   \n",
      "8         False         True                   True                  False   \n",
      "9         False         True                  False                  False   \n",
      "\n",
      "   SaleCondition_Alloca  SaleCondition_Family  SaleCondition_Normal  \\\n",
      "0                 False                 False                  True   \n",
      "1                 False                 False                  True   \n",
      "2                 False                 False                  True   \n",
      "3                 False                 False                 False   \n",
      "4                 False                 False                  True   \n",
      "5                 False                 False                  True   \n",
      "6                 False                 False                  True   \n",
      "7                 False                 False                  True   \n",
      "8                 False                 False                 False   \n",
      "9                 False                 False                  True   \n",
      "\n",
      "   SaleCondition_Partial  \n",
      "0                  False  \n",
      "1                  False  \n",
      "2                  False  \n",
      "3                  False  \n",
      "4                  False  \n",
      "5                  False  \n",
      "6                  False  \n",
      "7                  False  \n",
      "8                  False  \n",
      "9                  False  \n",
      "\n",
      "[10 rows x 289 columns]\n"
     ]
    }
   ],
   "source": [
    "# Fill numerical columns with the median value\n",
    "num_cols = data.select_dtypes(include=[np.number]).columns\n",
    "data[num_cols] = data[num_cols].apply(lambda x: x.fillna(x.median()), axis=0)\n",
    "\n",
    "# Fill categorical columns with the most frequent value\n",
    "cat_cols = data.select_dtypes(include=[object]).columns\n",
    "data[cat_cols] = data[cat_cols].apply(lambda x: x.fillna(x.value_counts().index[0]), axis=0)\n",
    "\n",
    "# Encode categorical variables\n",
    "data = pd.get_dummies(data)\n",
    "\n",
    "print(data.head(10))"
   ]
  },
  {
   "cell_type": "markdown",
   "metadata": {},
   "source": [
    "### Feature Engineering"
   ]
  },
  {
   "cell_type": "code",
   "execution_count": 7,
   "metadata": {},
   "outputs": [
    {
     "name": "stdout",
     "output_type": "stream",
     "text": [
      "Total Colums 290\n"
     ]
    }
   ],
   "source": [
    "data['TotalSF'] = data['TotalBsmtSF'] + data['1stFlrSF'] + data['2ndFlrSF']\n",
    "print(\"Total Colums\", len(data.columns))"
   ]
  },
  {
   "cell_type": "markdown",
   "metadata": {},
   "source": [
    "### Feature selection"
   ]
  },
  {
   "cell_type": "code",
   "execution_count": 8,
   "metadata": {},
   "outputs": [
    {
     "name": "stdout",
     "output_type": "stream",
     "text": [
      "TotalSF                 0.561596\n",
      "OverallQual             0.542911\n",
      "GrLivArea               0.518393\n",
      "GarageCars              0.438936\n",
      "GarageArea              0.432263\n",
      "                          ...   \n",
      "BldgType_Duplex         0.079707\n",
      "Condition1_Norm         0.079499\n",
      "Neighborhood_MeadowV    0.076826\n",
      "Heating_Grav            0.075484\n",
      "ExterQual_Fa            0.075482\n",
      "Name: SalePrice, Length: 120, dtype: float64\n",
      "   TotalSF  OverallQual  GrLivArea  GarageCars  GarageArea  TotalBsmtSF  \\\n",
      "0   2566.0            7       1710         2.0       548.0        856.0   \n",
      "1   2524.0            6       1262         2.0       460.0       1262.0   \n",
      "2   2706.0            7       1786         2.0       608.0        920.0   \n",
      "3   2473.0            7       1717         3.0       642.0        756.0   \n",
      "4   3343.0            8       2198         3.0       836.0       1145.0   \n",
      "\n",
      "   1stFlrSF  ExterQual_TA  TotRmsAbvGrd  FullBath  ...  RoofMatl_CompShg  \\\n",
      "0       856         False             8         2  ...              True   \n",
      "1      1262          True             6         2  ...              True   \n",
      "2       920         False             6         2  ...              True   \n",
      "3       961          True             7         1  ...              True   \n",
      "4      1145         False             9         2  ...              True   \n",
      "\n",
      "   Foundation_Slab  SaleCondition_Abnorml  Condition1_Feedr  Functional_Typ  \\\n",
      "0            False                  False             False            True   \n",
      "1            False                  False              True            True   \n",
      "2            False                  False             False            True   \n",
      "3            False                   True             False            True   \n",
      "4            False                  False             False            True   \n",
      "\n",
      "   BldgType_Duplex  Condition1_Norm  Neighborhood_MeadowV  Heating_Grav  \\\n",
      "0            False             True                 False         False   \n",
      "1            False            False                 False         False   \n",
      "2            False             True                 False         False   \n",
      "3            False             True                 False         False   \n",
      "4            False             True                 False         False   \n",
      "\n",
      "   ExterQual_Fa  \n",
      "0         False  \n",
      "1         False  \n",
      "2         False  \n",
      "3         False  \n",
      "4         False  \n",
      "\n",
      "[5 rows x 120 columns]\n",
      "{\n",
      "    \"TotalSF\": 3220.0,\n",
      "    \"OverallQual\": 6,\n",
      "    \"GrLivArea\": 1610,\n",
      "    \"GarageCars\": 2.0,\n",
      "    \"GarageArea\": 480.0,\n",
      "    \"TotalBsmtSF\": 1610.0,\n",
      "    \"1stFlrSF\": 1610,\n",
      "    \"ExterQual_TA\": true,\n",
      "    \"TotRmsAbvGrd\": 6,\n",
      "    \"FullBath\": 2,\n",
      "    \"BsmtQual_Ex\": false,\n",
      "    \"KitchenQual_TA\": false,\n",
      "    \"YearBuilt\": 1977,\n",
      "    \"GarageFinish_Unf\": false,\n",
      "    \"YearRemodAdd\": 2001,\n",
      "    \"BsmtQual_TA\": true,\n",
      "    \"KitchenQual_Ex\": false,\n",
      "    \"Foundation_PConc\": true,\n",
      "    \"MasVnrArea\": 28.0,\n",
      "    \"Fireplaces\": 2,\n",
      "    \"GarageYrBlt\": 1977.0,\n",
      "    \"ExterQual_Gd\": false,\n",
      "    \"ExterQual_Ex\": false,\n",
      "    \"HeatingQC_Ex\": false,\n",
      "    \"BsmtFinType1_GLQ\": false,\n",
      "    \"GarageFinish_Fin\": false,\n",
      "    \"BsmtFinSF1\": 1200.0,\n",
      "    \"Neighborhood_NridgHt\": false,\n",
      "    \"SaleType_New\": false,\n",
      "    \"Neighborhood_NoRidge\": false,\n",
      "    \"SaleCondition_Partial\": false,\n",
      "    \"GarageType_Detchd\": false,\n",
      "    \"LotFrontage\": 68.0,\n",
      "    \"LotArea\": 10603,\n",
      "    \"Foundation_CBlock\": false,\n",
      "    \"MasVnrType_Stone\": false,\n",
      "    \"2ndFlrSF\": 0,\n",
      "    \"KitchenQual_Gd\": true,\n",
      "    \"WoodDeckSF\": 168,\n",
      "    \"BsmtExposure_No\": false,\n",
      "    \"HeatingQC_TA\": false,\n",
      "    \"MasVnrType_BrkFace\": true,\n",
      "    \"OpenPorchSF\": 68,\n",
      "    \"Exterior1st_VinylSd\": false,\n",
      "    \"Exterior2nd_VinylSd\": false,\n",
      "    \"BsmtExposure_Gd\": false,\n",
      "    \"MSZoning_RM\": false,\n",
      "    \"HalfBath\": 0,\n",
      "    \"FireplaceQu_Ex\": false,\n",
      "    \"LotShape_Reg\": false,\n",
      "    \"CentralAir_Y\": true,\n",
      "    \"CentralAir_N\": false,\n",
      "    \"HouseStyle_2Story\": false,\n",
      "    \"MSZoning_RL\": true,\n",
      "    \"RoofStyle_Hip\": false,\n",
      "    \"Electrical_SBrkr\": true,\n",
      "    \"BsmtQual_Gd\": false,\n",
      "    \"SaleType_WD\": true,\n",
      "    \"GarageType_Attchd\": true,\n",
      "    \"RoofStyle_Gable\": true,\n",
      "    \"RoofMatl_WdShngl\": false,\n",
      "    \"PavedDrive_Y\": true,\n",
      "    \"GarageType_BuiltIn\": false,\n",
      "    \"LotShape_IR1\": true,\n",
      "    \"BsmtFullBath\": 1.0,\n",
      "    \"BsmtUnfSF\": 410.0,\n",
      "    \"Neighborhood_StoneBr\": false,\n",
      "    \"Id\": 101,\n",
      "    \"PavedDrive_N\": false,\n",
      "    \"Foundation_BrkTil\": false,\n",
      "    \"FireplaceQu_Gd\": false,\n",
      "    \"Electrical_FuseA\": false,\n",
      "    \"Neighborhood_OldTown\": false,\n",
      "    \"Neighborhood_NAmes\": false,\n",
      "    \"Neighborhood_Edwards\": false,\n",
      "    \"GarageFinish_RFn\": true,\n",
      "    \"FireplaceQu_TA\": true,\n",
      "    \"BedroomAbvGr\": 3,\n",
      "    \"Exterior1st_MetalSd\": false,\n",
      "    \"Exterior2nd_MetalSd\": false,\n",
      "    \"HouseStyle_1.5Fin\": false,\n",
      "    \"Exterior2nd_Wd Sdng\": false,\n",
      "    \"KitchenQual_Fa\": false,\n",
      "    \"Exterior1st_Wd Sdng\": false,\n",
      "    \"SaleCondition_Normal\": true,\n",
      "    \"Neighborhood_IDOTRR\": false,\n",
      "    \"LotConfig_CulDSac\": false,\n",
      "    \"Neighborhood_BrkSide\": false,\n",
      "    \"BsmtExposure_Av\": false,\n",
      "    \"BldgType_1Fam\": true,\n",
      "    \"KitchenAbvGr\": 1,\n",
      "    \"BsmtFinType1_Rec\": false,\n",
      "    \"GarageCond_TA\": true,\n",
      "    \"HeatingQC_Fa\": false,\n",
      "    \"HeatingQC_Gd\": true,\n",
      "    \"LotShape_IR2\": false,\n",
      "    \"Neighborhood_Somerst\": false,\n",
      "    \"BsmtFinType1_Unf\": false,\n",
      "    \"ExterCond_Fa\": false,\n",
      "    \"Neighborhood_Timber\": false,\n",
      "    \"BsmtFinType1_BLQ\": false,\n",
      "    \"Exterior1st_CemntBd\": false,\n",
      "    \"BsmtCond_Fa\": false,\n",
      "    \"GarageCond_Fa\": false,\n",
      "    \"Electrical_FuseF\": false,\n",
      "    \"GarageQual_Fa\": false,\n",
      "    \"Neighborhood_Sawyer\": false,\n",
      "    \"EnclosedPorch\": 0,\n",
      "    \"BsmtQual_Fa\": false,\n",
      "    \"Exterior2nd_CmentBd\": false,\n",
      "    \"RoofMatl_CompShg\": true,\n",
      "    \"Foundation_Slab\": false,\n",
      "    \"SaleCondition_Abnorml\": false,\n",
      "    \"Condition1_Feedr\": false,\n",
      "    \"Functional_Typ\": true,\n",
      "    \"BldgType_Duplex\": false,\n",
      "    \"Condition1_Norm\": true,\n",
      "    \"Neighborhood_MeadowV\": false,\n",
      "    \"Heating_Grav\": false,\n",
      "    \"ExterQual_Fa\": false\n",
      "}\n",
      "205000.0\n"
     ]
    }
   ],
   "source": [
    "correlation = abs(data.corr())\n",
    "\n",
    "columns = correlation['SalePrice'].sort_values(ascending=False);\n",
    "top_cols = columns.iloc[1:121]\n",
    "print(top_cols)\n",
    "\n",
    "X = data.loc[:, top_cols.index]\n",
    "print(X.head())\n",
    "\n",
    "y = data['SalePrice']\n",
    "\n",
    "# Convert the 100th row to JSON for flask api testing\n",
    "row_json = X.iloc[100:101].to_json(orient=\"records\")\n",
    "\n",
    "import json\n",
    "row_json = json.loads(row_json)[0]\n",
    "\n",
    "# Print the JSON formatted 100th row\n",
    "print(json.dumps(row_json, indent=4))\n",
    "print(y[100])"
   ]
  },
  {
   "cell_type": "code",
   "execution_count": 9,
   "metadata": {},
   "outputs": [
    {
     "name": "stdout",
     "output_type": "stream",
     "text": [
      "Total Data (2919, 120) (2919,)\n",
      "Train Data (1868, 120) (1868,)\n",
      "Validation Data (467, 120) (467,)\n",
      "Test Data (584, 120) (584,)\n"
     ]
    }
   ],
   "source": [
    "# Split the data\n",
    "X_train, X_test, y_train, y_test = train_test_split(X, y, test_size=0.2, random_state=42)\n",
    "X_train, X_val, y_train, y_val = train_test_split(X_train, y_train, test_size=0.2, random_state=42)\n",
    "\n",
    "print(\"Total Data\", X.shape, y.shape)\n",
    "print(\"Train Data\", X_train.shape, y_train.shape)\n",
    "print(\"Validation Data\", X_val.shape, y_val.shape)\n",
    "print(\"Test Data\", X_test.shape, y_test.shape)"
   ]
  },
  {
   "cell_type": "markdown",
   "metadata": {},
   "source": [
    "## 3. Model Training, Evaluation, and Saving"
   ]
  },
  {
   "cell_type": "markdown",
   "metadata": {},
   "source": [
    "Training Algorithm and Metrics:\n",
    "<ul>\n",
    "    <li>We'll use a RandomForestRegressor for this task.</li>\n",
    "    <li>Metrics: We'll use Mean Squared Error (MSE) and R-squared (R2) to evaluate the model's performance.</li>\n",
    "</ul>"
   ]
  },
  {
   "cell_type": "code",
   "execution_count": 10,
   "metadata": {},
   "outputs": [
    {
     "data": {
      "text/html": [
       "<style>#sk-container-id-1 {color: black;}#sk-container-id-1 pre{padding: 0;}#sk-container-id-1 div.sk-toggleable {background-color: white;}#sk-container-id-1 label.sk-toggleable__label {cursor: pointer;display: block;width: 100%;margin-bottom: 0;padding: 0.3em;box-sizing: border-box;text-align: center;}#sk-container-id-1 label.sk-toggleable__label-arrow:before {content: \"▸\";float: left;margin-right: 0.25em;color: #696969;}#sk-container-id-1 label.sk-toggleable__label-arrow:hover:before {color: black;}#sk-container-id-1 div.sk-estimator:hover label.sk-toggleable__label-arrow:before {color: black;}#sk-container-id-1 div.sk-toggleable__content {max-height: 0;max-width: 0;overflow: hidden;text-align: left;background-color: #f0f8ff;}#sk-container-id-1 div.sk-toggleable__content pre {margin: 0.2em;color: black;border-radius: 0.25em;background-color: #f0f8ff;}#sk-container-id-1 input.sk-toggleable__control:checked~div.sk-toggleable__content {max-height: 200px;max-width: 100%;overflow: auto;}#sk-container-id-1 input.sk-toggleable__control:checked~label.sk-toggleable__label-arrow:before {content: \"▾\";}#sk-container-id-1 div.sk-estimator input.sk-toggleable__control:checked~label.sk-toggleable__label {background-color: #d4ebff;}#sk-container-id-1 div.sk-label input.sk-toggleable__control:checked~label.sk-toggleable__label {background-color: #d4ebff;}#sk-container-id-1 input.sk-hidden--visually {border: 0;clip: rect(1px 1px 1px 1px);clip: rect(1px, 1px, 1px, 1px);height: 1px;margin: -1px;overflow: hidden;padding: 0;position: absolute;width: 1px;}#sk-container-id-1 div.sk-estimator {font-family: monospace;background-color: #f0f8ff;border: 1px dotted black;border-radius: 0.25em;box-sizing: border-box;margin-bottom: 0.5em;}#sk-container-id-1 div.sk-estimator:hover {background-color: #d4ebff;}#sk-container-id-1 div.sk-parallel-item::after {content: \"\";width: 100%;border-bottom: 1px solid gray;flex-grow: 1;}#sk-container-id-1 div.sk-label:hover label.sk-toggleable__label {background-color: #d4ebff;}#sk-container-id-1 div.sk-serial::before {content: \"\";position: absolute;border-left: 1px solid gray;box-sizing: border-box;top: 0;bottom: 0;left: 50%;z-index: 0;}#sk-container-id-1 div.sk-serial {display: flex;flex-direction: column;align-items: center;background-color: white;padding-right: 0.2em;padding-left: 0.2em;position: relative;}#sk-container-id-1 div.sk-item {position: relative;z-index: 1;}#sk-container-id-1 div.sk-parallel {display: flex;align-items: stretch;justify-content: center;background-color: white;position: relative;}#sk-container-id-1 div.sk-item::before, #sk-container-id-1 div.sk-parallel-item::before {content: \"\";position: absolute;border-left: 1px solid gray;box-sizing: border-box;top: 0;bottom: 0;left: 50%;z-index: -1;}#sk-container-id-1 div.sk-parallel-item {display: flex;flex-direction: column;z-index: 1;position: relative;background-color: white;}#sk-container-id-1 div.sk-parallel-item:first-child::after {align-self: flex-end;width: 50%;}#sk-container-id-1 div.sk-parallel-item:last-child::after {align-self: flex-start;width: 50%;}#sk-container-id-1 div.sk-parallel-item:only-child::after {width: 0;}#sk-container-id-1 div.sk-dashed-wrapped {border: 1px dashed gray;margin: 0 0.4em 0.5em 0.4em;box-sizing: border-box;padding-bottom: 0.4em;background-color: white;}#sk-container-id-1 div.sk-label label {font-family: monospace;font-weight: bold;display: inline-block;line-height: 1.2em;}#sk-container-id-1 div.sk-label-container {text-align: center;}#sk-container-id-1 div.sk-container {/* jupyter's `normalize.less` sets `[hidden] { display: none; }` but bootstrap.min.css set `[hidden] { display: none !important; }` so we also need the `!important` here to be able to override the default hidden behavior on the sphinx rendered scikit-learn.org. See: https://github.com/scikit-learn/scikit-learn/issues/21755 */display: inline-block !important;position: relative;}#sk-container-id-1 div.sk-text-repr-fallback {display: none;}</style><div id=\"sk-container-id-1\" class=\"sk-top-container\"><div class=\"sk-text-repr-fallback\"><pre>RandomForestRegressor(random_state=42)</pre><b>In a Jupyter environment, please rerun this cell to show the HTML representation or trust the notebook. <br />On GitHub, the HTML representation is unable to render, please try loading this page with nbviewer.org.</b></div><div class=\"sk-container\" hidden><div class=\"sk-item\"><div class=\"sk-estimator sk-toggleable\"><input class=\"sk-toggleable__control sk-hidden--visually\" id=\"sk-estimator-id-1\" type=\"checkbox\" checked><label for=\"sk-estimator-id-1\" class=\"sk-toggleable__label sk-toggleable__label-arrow\">RandomForestRegressor</label><div class=\"sk-toggleable__content\"><pre>RandomForestRegressor(random_state=42)</pre></div></div></div></div></div>"
      ],
      "text/plain": [
       "RandomForestRegressor(random_state=42)"
      ]
     },
     "execution_count": 10,
     "metadata": {},
     "output_type": "execute_result"
    }
   ],
   "source": [
    "# Define the model\n",
    "model = RandomForestRegressor(n_estimators=100, random_state=42)\n",
    "\n",
    "# Train the model\n",
    "model.fit(X_train, y_train)"
   ]
  },
  {
   "cell_type": "code",
   "execution_count": 11,
   "metadata": {},
   "outputs": [
    {
     "name": "stdout",
     "output_type": "stream",
     "text": [
      "Train MSE: 76973462.52525853, Train R2: 0.9751978824812902\n",
      "Validation MSE: 353680644.37414235, Validation R2: 0.8887441252914191\n",
      "Test MSE: 422900622.10432327, Test R2: 0.8851817966365961\n"
     ]
    }
   ],
   "source": [
    "# Make predictions\n",
    "y_pred_train = model.predict(X_train)\n",
    "y_pred_val = model.predict(X_val)\n",
    "y_pred_test = model.predict(X_test)\n",
    "\n",
    "# Evaluate the model\n",
    "train_mse = mean_squared_error(y_train, y_pred_train)\n",
    "val_mse = mean_squared_error(y_val, y_pred_val)\n",
    "test_mse = mean_squared_error(y_test, y_pred_test)\n",
    "\n",
    "train_r2 = model.score(X_train, y_train)\n",
    "val_r2 = model.score(X_val, y_val)\n",
    "test_r2 = model.score(X_test, y_test)\n",
    "\n",
    "\n",
    "print(f'Train MSE: {train_mse}, Train R2: {train_r2}')\n",
    "print(f'Validation MSE: {val_mse}, Validation R2: {val_r2}')\n",
    "print(f'Test MSE: {test_mse}, Test R2: {test_r2}')"
   ]
  },
  {
   "cell_type": "markdown",
   "metadata": {},
   "source": [
    "### Save Model"
   ]
  },
  {
   "cell_type": "code",
   "execution_count": 12,
   "metadata": {},
   "outputs": [],
   "source": [
    "import pickle\n",
    "\n",
    "with open('Realestate_price_model.pkl', 'wb') as file:\n",
    "    pickle.dump(model, file)"
   ]
  },
  {
   "cell_type": "code",
   "execution_count": null,
   "metadata": {},
   "outputs": [],
   "source": []
  }
 ],
 "metadata": {
  "kernelspec": {
   "display_name": "Python 3 (ipykernel)",
   "language": "python",
   "name": "python3"
  },
  "language_info": {
   "codemirror_mode": {
    "name": "ipython",
    "version": 3
   },
   "file_extension": ".py",
   "mimetype": "text/x-python",
   "name": "python",
   "nbconvert_exporter": "python",
   "pygments_lexer": "ipython3",
   "version": "3.11.5"
  }
 },
 "nbformat": 4,
 "nbformat_minor": 2
}
